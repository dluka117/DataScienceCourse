{
 "cells": [
  {
   "cell_type": "markdown",
   "metadata": {},
   "source": [
    "Data Science Fundamentals: Python |\n",
    "[Table of Contents](../index.ipynb)\n",
    "- - - \n",
    "<!--NAVIGATION-->\n",
    "Module 1. [Basic Python Syntax](./01_mod_python_syntax.ipynb) | [Variables and Objects](./02_python_variables_objects.ipynb) | [Operators](./03_python_operators.ipynb) | **[Exercises](./04_mod_practice.ipynb)**"
   ]
  },
  {
   "cell_type": "markdown",
   "metadata": {},
   "source": [
    "# Module 1: Practice Exercises\n",
    "Please remember to submit this file to Titus"
   ]
  },
  {
   "cell_type": "markdown",
   "metadata": {},
   "source": [
    "### Exercise 1: Accept the user's first and last name and print them in reverse order with a space between them."
   ]
  },
  {
   "cell_type": "code",
   "execution_count": 13,
   "metadata": {},
   "outputs": [
    {
     "name": "stdout",
     "output_type": "stream",
     "text": [
      "Enter your first name:John\n",
      "Enter you last name:Doe\n",
      "Doe John\n"
     ]
    }
   ],
   "source": [
    "firstname = input(\"Enter your first name:\") #Takes first name input\n",
    "lastname = input(\"Enter you last name:\")    #Takes last name input\n",
    "print(lastname, firstname)                  #Outputs last name then first name"
   ]
  },
  {
   "cell_type": "code",
   "execution_count": 10,
   "metadata": {},
   "outputs": [
    {
     "name": "stdout",
     "output_type": "stream",
     "text": [
      "My first name is Kevin and my last name is Jones\n",
      "Jones Kevin\n"
     ]
    }
   ],
   "source": [
    "#insert your code here, and don't forget to comment EVERY line!\n",
    "F='Kevin'\n",
    "L='Jones'\n",
    "print('My first name is', F, 'and my last name is', L)\n",
    "print(L,F)"
   ]
  },
  {
   "cell_type": "markdown",
   "metadata": {},
   "source": [
    "### Exercise 2. Accept an integer (n) input from the user and compute the value of n+nn+nnn\n",
    "For example if `n=4` then `n + nn + nnn = 4 + 44 + 444 = 492`"
   ]
  },
  {
   "cell_type": "code",
   "execution_count": 1,
   "metadata": {},
   "outputs": [
    {
     "name": "stdout",
     "output_type": "stream",
     "text": [
      "Enter an integer:3\n",
      "369\n"
     ]
    }
   ],
   "source": [
    "#insert your code here\n",
    "n=input ('Enter an integer:')  #Prompts integer input and assigns input value to variable n\n",
    "n= int(n)                      #Sets n equal to integer because it was a string type before\n",
    "print(n*3+n*20+n*100)          #Prints simplified formula of (n)+(n+n*10)+(n+n*10+n*100)"
   ]
  },
  {
   "cell_type": "markdown",
   "metadata": {},
   "source": [
    "### Exercise 3. Ask the user \"What country are you from?\" then print the following statement: \"I have heard that [input] is a beautiful country!\""
   ]
  },
  {
   "cell_type": "code",
   "execution_count": 15,
   "metadata": {},
   "outputs": [],
   "source": [
    "#insert your code here\n",
    "input('What country are you from?')              #Input function prompts user input\n",
    "print('I have heard that country is beautiful!') #Print funtion on next line automatically runs after input"
   ]
  },
  {
   "cell_type": "markdown",
   "metadata": {},
   "source": [
    "### Exercise 4. What is the output of the following python code?"
   ]
  },
  {
   "cell_type": "raw",
   "metadata": {},
   "source": [
    "x = 10\n",
    "y = 50\n",
    "if (x ** 2 > 100 and y < 100):\n",
    "    print(x, y)"
   ]
  },
  {
   "cell_type": "markdown",
   "metadata": {},
   "source": [
    "#Print your answer here\n",
    "\n",
    "There will be no output because x**2 is equal to 100 and 100 is not greater than 100"
   ]
  },
  {
   "cell_type": "markdown",
   "metadata": {},
   "source": [
    "### Exercise 5: What is the output of the following addition `+` operator, and why does this code chunk execute this way??"
   ]
  },
  {
   "cell_type": "raw",
   "metadata": {},
   "source": [
    "a = [10, 20]\n",
    "b = a\n",
    "b += [30, 40]\n",
    "print(a)\n",
    "print(b)"
   ]
  },
  {
   "cell_type": "markdown",
   "metadata": {},
   "source": [
    "#Print your answer here\n",
    "\n",
    "The variable a is pointing to a list [10,20] in the first line.\n",
    "Then b is also pointing towards that same list that a was in the second line.\n",
    "The third line shows that b will add on to the list the elements 30 and 40 to the list.\n",
    "This will result in an out of:\n",
    "[10,20,30,40]\n",
    "[10,20,30,40]\n",
    "This happens because a and b are pointing to the same list since they are = to eachother\n",
    "If the'=' was replace with a '==' then list a would have kept its orignal value of [10,20]"
   ]
  },
  {
   "cell_type": "markdown",
   "metadata": {},
   "source": [
    "### Exercise 6. What is the output of the following code, and what operator is being used here?"
   ]
  },
  {
   "cell_type": "raw",
   "metadata": {},
   "source": [
    "print(2%6)"
   ]
  },
  {
   "cell_type": "markdown",
   "metadata": {},
   "source": [
    "#Print your answer here\n",
    "\n",
    "The output would be:\n",
    "2\n",
    "This operator, %, is called the modulus, it takes the remainder after the term to the right \n",
    "of it divides into the term to the left. So since 6 goes into 2 0 times that leaves a remainder of 2."
   ]
  },
  {
   "cell_type": "markdown",
   "metadata": {},
   "source": [
    "### Exercise 7: What is the output of the following code, and what arithmetic operators are used in this code?"
   ]
  },
  {
   "cell_type": "raw",
   "metadata": {},
   "source": [
    "print(2 * 3 ** 3 * 4)"
   ]
  },
  {
   "cell_type": "markdown",
   "metadata": {},
   "source": [
    "#Print your answer here\n",
    "The output is:\n",
    "216\n",
    "The * represents multiplication and the ** represents an exponent \n",
    "So first you need to take 3 to the power of 3 which is 27. Then multiply that by 2 and 4"
   ]
  },
  {
   "cell_type": "markdown",
   "metadata": {},
   "source": [
    "### Exercise 8: What is a text editor?"
   ]
  },
  {
   "cell_type": "markdown",
   "metadata": {},
   "source": [
    "#Print your answer here\n",
    "\n",
    "A text editor is a program that saves your files without formatting, it saves text as plain text."
   ]
  },
  {
   "cell_type": "markdown",
   "metadata": {},
   "source": [
    "### Exercise 9: What is python?"
   ]
  },
  {
   "cell_type": "markdown",
   "metadata": {},
   "source": [
    "#Print your answer here\n",
    "\n",
    "Python is an object-oriented programming language that is dynamically typed. An object-oriented programming language is organized around data and object instead of functions or logic."
   ]
  },
  {
   "cell_type": "markdown",
   "metadata": {},
   "source": [
    "### Exercise 10: What is jupyter notebook, what type of python environment is it, and what alternatives are there to jupyter notebook?"
   ]
  },
  {
   "cell_type": "markdown",
   "metadata": {},
   "source": [
    "#Print your answer here\n",
    "\n",
    "Is an open-source web application that allows data scientists to collaborate on a single document. You can edit others code and other people can edit yours without changing your or their original code. Jupyter notebook is a virtual environment. SOme alternatives are PyCharm, Kite, and Eclipse "
   ]
  },
  {
   "cell_type": "markdown",
   "metadata": {},
   "source": [
    "### Please remember to submit this file to Titus!"
   ]
  },
  {
   "cell_type": "markdown",
   "metadata": {},
   "source": [
    "<!--NAVIGATION-->\n",
    "Module 1. [Basic Python Syntax](./01_mod_python_syntax.ipynb) | [Variables and Objects](./02_python_variables_objects.ipynb) | [Operators](./03_python_operators.ipynb) | **[Practice](./04_mod_practice.ipynb)**\n",
    "<br>\n",
    "[top](#)"
   ]
  },
  {
   "cell_type": "markdown",
   "metadata": {},
   "source": [
    "- - -\n",
    "\n",
    "Copyright © 2020 Qualex Consulting Services Incorporated."
   ]
  }
 ],
 "metadata": {
  "kernelspec": {
   "display_name": "Python 3",
   "language": "python",
   "name": "python3"
  },
  "language_info": {
   "codemirror_mode": {
    "name": "ipython",
    "version": 3
   },
   "file_extension": ".py",
   "mimetype": "text/x-python",
   "name": "python",
   "nbconvert_exporter": "python",
   "pygments_lexer": "ipython3",
   "version": "3.8.8"
  }
 },
 "nbformat": 4,
 "nbformat_minor": 4
}
