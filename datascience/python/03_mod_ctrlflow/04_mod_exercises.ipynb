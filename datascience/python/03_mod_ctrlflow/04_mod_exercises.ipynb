{
 "cells": [
  {
   "cell_type": "markdown",
   "metadata": {},
   "source": [
    "Data Science Fundamentals: Python |\n",
    "[Table of Contents](../index.ipynb)\n",
    "- - - \n",
    "<!--NAVIGATION-->\n",
    "Module 3. [Control Flow](./01_mod_control_flow.ipynb) | [Statements](./02_python_statements.ipynb) | [Functions](./03_python_functions.ipynb) | **[Exercises](./04_mod_exercises.ipynb)**"
   ]
  },
  {
   "cell_type": "markdown",
   "metadata": {},
   "source": [
    "# Control Flow Exercises"
   ]
  },
  {
   "cell_type": "markdown",
   "metadata": {},
   "source": [
    "### Exercise 1:\n",
    "Guess a number between 1 to 9 given by the user. Hint. [Random](https://docs.python.org/3/library/random.html)"
   ]
  },
  {
   "cell_type": "code",
   "execution_count": null,
   "metadata": {},
   "outputs": [],
   "source": [
    "#this imports a random integer generator, aliased as \"rng\".\n",
    "from random import randint as rng\n",
    "#Here, a random number (randNum) can be assigned using rng(1,9) specifying the start and end points as 1 to 9.\n",
    "randNum = rng(1,9)\n",
    "guess = 0\n",
    "while randNum != guess:\n",
    "    guess = int(input(\"guess a number between 1 and 9 until you get it correct \")) \n",
    "    print(\"nope! Guess again\")\n",
    "print(\"Good job you guessed the number!\")\n"
   ]
  },
  {
   "cell_type": "markdown",
   "metadata": {},
   "source": [
    "### Exercise 2:\n",
    "Check the validity of password input by the user. Hint. [Re](https://docs.python.org/3/library/re.html) which does matching operations much like Perl.\n",
    "\n",
    "Validation:\n",
    "\n",
    "- At least 1 letter between [a-z] and 1 letter between [A-Z].\n",
    "- At least 1 number between [0-9].\n",
    "- At least 1 character from [$#@].\n",
    "- Minimum length 6 characters.\n",
    "- Maximum length 16 characters."
   ]
  },
  {
   "cell_type": "code",
   "execution_count": 11,
   "metadata": {},
   "outputs": [
    {
     "name": "stdout",
     "output_type": "stream",
     "text": [
      "Please enter a valid password:\n",
      "Valid passwords are:\n",
      "\t6-16 characters in length,\n",
      "\tContain 1+ numbers,\n",
      "\t1+ character from [$#@!], and \n",
      "\tAt least 1 upper and 1 lowercase letter.\n",
      "Input: 2\n",
      "Password sucks\n"
     ]
    }
   ],
   "source": [
    "#This exercise is difficult for beginners, as it utilizes Regex. If you don't get it at first, thats okay, do your best.\n",
    "import re\n",
    "pwd = input('Please enter a valid password:\\nValid passwords are:\\n\\t6-16 characters in length,\\n\\tContain 1+ numbers,\\n\\t1+ character from [$#@!], and \\n\\tAt least 1 upper and 1 lowercase letter.\\nInput: ')\n",
    "for i in pwd:\n",
    "      if type (i) == int:\n",
    "            \n",
    "            print (\"Password is good\")\n",
    "else:\n",
    "            print(\"Password sucks\")\n",
    "\n",
    "          "
   ]
  },
  {
   "cell_type": "markdown",
   "metadata": {},
   "source": [
    "### Exercise 3:\n",
    "Get input of the age of 3 people by user and determine oldest and youngest among them"
   ]
  },
  {
   "cell_type": "code",
   "execution_count": 6,
   "metadata": {},
   "outputs": [
    {
     "name": "stdout",
     "output_type": "stream",
     "text": [
      "Can you name three people for me? Please separate names with a space.Pam Jam Lam\n",
      "Can you give me the three ages for each person you named previously in the same order? Please sperate each input with a space. 33 34 30\n",
      "Jam is the oldest person. They are 34 year old.\n",
      "Lam is the youngest person. They are 30 year old.\n"
     ]
    }
   ],
   "source": [
    "#person1 = int(input(\"Enter First Person's Age : \"))\n",
    "#person2 = int(input(\"Enter Second Person's Age : \"))\n",
    "#person3 = int(input(\"Enter Third Person's Age : \"))\n",
    "#ages = [number1, number2, number3]\n",
    "#sorted_ages = sorted(ages)\n",
    "\n",
    "threepeople = input('Can you name three people for me? Please separate names with a space. ')\n",
    "threeages = input('Can you give me the three ages for each person you named previously in the same order? Please seperate each input with a space. ')\n",
    "people= threepeople.split()\n",
    "ages= threeages.split()\n",
    "ages_list = [int(x) for x in ages]\n",
    "oldest_age = max(ages_list)\n",
    "youngest_age = min(ages_list)\n",
    "oldest_person = people[ages_list.index(oldest_age)]\n",
    "youngest_person = people[ages_list.index(youngest_age)]\n",
    "print(oldest_person,'is the oldest person. They are', oldest_age, 'year old.' )\n",
    "print(youngest_person,'is the youngest person. They are', youngest_age, 'year old.' )\n",
    "#print (\"The oldest person is\", str(sorted_ages[-1]))\n",
    "#print (\"The youngest person is\", str(sorted_ages[0]))\n",
    "#if number1==sorted_ages[0]:\n",
    "#    print(\"Person number 1 is the youngest\")\n",
    "#if number2==sorted_ages[0]:\n",
    "#    print(\"Person number 2 is the youngest\")\n",
    "#if number3==sorted_ages[0]:\n",
    "#    print(\"Person number 3 is the youngest\")\n",
    "#if number1==sorted_ages[-1]:\n",
    "#    print(\"Person number 1 is the oldest\")\n",
    "#if number2==sorted_ages[-1]:\n",
    "#    print(\"Person number 2 is the oldest\")\n",
    "#if number3==sorted_ages[-1]:\n",
    "#    print(\"Person number 3 is the oldest\")\n",
    "\n"
   ]
  },
  {
   "cell_type": "markdown",
   "metadata": {},
   "source": [
    "##### Exercise 4:\n",
    "A student will not be allowed to sit in exam if his/her attendance is less than 75%.\n",
    "\n",
    "Take following input from user\n",
    "\n",
    "- Number of classes held\n",
    "- Number of classes attended.\n",
    "- And print percentage of class attended\n",
    "- Is student is allowed to sit in exam or not?"
   ]
  },
  {
   "cell_type": "code",
   "execution_count": 6,
   "metadata": {},
   "outputs": [
    {
     "name": "stdout",
     "output_type": "stream",
     "text": [
      "How many classes were held for your class? 10\n",
      "How many classes did you attend? 8\n",
      "You attended 80.0 % of you classes\n",
      "You are allowed to sit in your exam.\n"
     ]
    }
   ],
   "source": [
    "total_classes = int(input('How many classes were held for your class? '))\n",
    "attended_classes = int(input('How many classes did you attend? '))\n",
    "percentage = 100*(attended_classes/total_classes)\n",
    "print('You attended', percentage, '% of you classes.')\n",
    "if percentage < 75.0:\n",
    "    print('You are not allowed to sit in your exam.')\n",
    "else:\n",
    "    print('You are allowed to sit in your exam.')"
   ]
  },
  {
   "cell_type": "markdown",
   "metadata": {},
   "source": [
    "### number of classes held:\n",
    "\n",
    "\n",
    "#number of classes attended:\n",
    "\n",
    "\n",
    "#percentage of classes\n",
    "\n",
    "\n",
    "#Is student allowed to sit in exam?\n"
   ]
  },
  {
   "cell_type": "markdown",
   "metadata": {},
   "source": [
    "### Exercise 5:\n",
    "Get an integer N from the user and perform the following actions:\n",
    "\n",
    "Find out - \n",
    "- if N is odd, print \"weird\"\n",
    "- if N is even and in the inclusive range of 2 to 5, print \"Not Weird\"\n",
    "- if N is even and in the inclusive range of 6 to 20, print \"Weird\"\n",
    "- if N is even and greater than 20, print \"Not Weird\""
   ]
  },
  {
   "cell_type": "code",
   "execution_count": 40,
   "metadata": {},
   "outputs": [
    {
     "name": "stdout",
     "output_type": "stream",
     "text": [
      "Please input an integer value. 22\n",
      "Not weird\n"
     ]
    }
   ],
   "source": [
    "# Given an integer, n, perform the following conditional actions:\n",
    "# If n is odd, print Weird\n",
    "# If n is even and in the inclusive range of 2 to 5, print Not Weird\n",
    "# If n is even and in the inclusive range of 6 to 20, print Weird\n",
    "# If n is even and greater than 20, print Not Weird\n",
    "\n",
    "n = int(input(\"Please input an integer value. \"))  #Prompts user integer input\n",
    "if n%2 != 0 or n%2 == 0 and 5 <= n <= 20:          #If integer input satisfies certain paramenters then output 'Weird number'\n",
    "    print('Weird number.')\n",
    "    \n",
    "if n%2 == 0 and 2 <= n <= 5 or  n%2 == 0 and n>20: #If integer input satisfies certain paramenters then output 'Not weird number '\n",
    "    print('Not weird number.')                     #Only integer without an output is 0\n",
    "\n"
   ]
  },
  {
   "cell_type": "markdown",
   "metadata": {},
   "source": [
    "\n",
    "## Extra Points\n",
    "- - -"
   ]
  },
  {
   "cell_type": "markdown",
   "metadata": {},
   "source": [
    "1. ***Optional Exercise (Extra Points)***. Write a Python program to reverse a string."
   ]
  },
  {
   "cell_type": "raw",
   "metadata": {},
   "source": [
    "Sample String : \"1234abcd\"\n",
    "Expected Output : \"dcba4321\""
   ]
  },
  {
   "cell_type": "code",
   "execution_count": null,
   "metadata": {},
   "outputs": [],
   "source": []
  },
  {
   "cell_type": "markdown",
   "metadata": {},
   "source": [
    "2. ***Optional Exercise (Extra Points)***. Write a Python function to multiply all the numbers in a list. "
   ]
  },
  {
   "cell_type": "raw",
   "metadata": {},
   "source": [
    "Sample List : (8, 2, 3, -1, 7)\n",
    "Expected Output : -336"
   ]
  },
  {
   "cell_type": "code",
   "execution_count": null,
   "metadata": {},
   "outputs": [],
   "source": []
  },
  {
   "cell_type": "markdown",
   "metadata": {},
   "source": [
    "3. ***Optional Exercise (Extra Points)***. Write a Python function that accepts a string and calculate the number of upper case letters and lower case letters."
   ]
  },
  {
   "cell_type": "raw",
   "metadata": {},
   "source": [
    "Sample String : 'The quick Brow Fox'\n",
    "Expected Output :\n",
    "No. of Upper case characters : 3\n",
    "No. of Lower case Characters : 12"
   ]
  },
  {
   "cell_type": "code",
   "execution_count": null,
   "metadata": {},
   "outputs": [],
   "source": []
  },
  {
   "cell_type": "markdown",
   "metadata": {},
   "source": [
    "- - -\n",
    "\n",
    "Copyright © 2020 Qualex Consulting Services Incorporated."
   ]
  }
 ],
 "metadata": {
  "kernelspec": {
   "display_name": "Python 3",
   "language": "python",
   "name": "python3"
  },
  "language_info": {
   "codemirror_mode": {
    "name": "ipython",
    "version": 3
   },
   "file_extension": ".py",
   "mimetype": "text/x-python",
   "name": "python",
   "nbconvert_exporter": "python",
   "pygments_lexer": "ipython3",
   "version": "3.8.8"
  }
 },
 "nbformat": 4,
 "nbformat_minor": 4
}
